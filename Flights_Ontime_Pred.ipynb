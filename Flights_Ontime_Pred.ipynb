{
 "cells": [
  {
   "cell_type": "code",
   "execution_count": 1,
   "id": "0df77208-dd8b-463d-b2a8-79ff1f751817",
   "metadata": {
    "tags": []
   },
   "outputs": [
    {
     "name": "stderr",
     "output_type": "stream",
     "text": [
      "2024-04-07 15:06:53.480948: I tensorflow/core/platform/cpu_feature_guard.cc:193] This TensorFlow binary is optimized with oneAPI Deep Neural Network Library (oneDNN) to use the following CPU instructions in performance-critical operations:  AVX2 FMA\n",
      "To enable them in other operations, rebuild TensorFlow with the appropriate compiler flags.\n",
      "2024-04-07 15:07:31.328164: W tensorflow/compiler/xla/stream_executor/platform/default/dso_loader.cc:64] Could not load dynamic library 'libnvinfer.so.7'; dlerror: libnvinfer.so.7: cannot open shared object file: No such file or directory; LD_LIBRARY_PATH: /usr/local/cuda/lib64:/usr/local/nccl2/lib:/usr/local/cuda/extras/CUPTI/lib64:/opt/conda/lib\n",
      "2024-04-07 15:07:31.329526: W tensorflow/compiler/xla/stream_executor/platform/default/dso_loader.cc:64] Could not load dynamic library 'libnvinfer_plugin.so.7'; dlerror: libnvinfer_plugin.so.7: cannot open shared object file: No such file or directory; LD_LIBRARY_PATH: /usr/local/cuda/lib64:/usr/local/nccl2/lib:/usr/local/cuda/extras/CUPTI/lib64:/opt/conda/lib\n",
      "2024-04-07 15:07:31.329548: W tensorflow/compiler/tf2tensorrt/utils/py_utils.cc:38] TF-TRT Warning: Cannot dlopen some TensorRT libraries. If you would like to use Nvidia GPU with TensorRT, please make sure the missing libraries mentioned above are installed properly.\n"
     ]
    },
    {
     "name": "stdout",
     "output_type": "stream",
     "text": [
      "Reading package lists... Done\n",
      "Building dependency tree... Done\n",
      "Reading state information... Done\n",
      "The following additional packages will be installed:\n",
      "  fonts-liberation libann0 libcdt5 libcgraph6 libgts-0.7-5 libgts-bin libgvc6\n",
      "  libgvpr2 liblab-gamut1 libpathplan4\n",
      "Suggested packages:\n",
      "  gsfonts graphviz-doc\n",
      "The following NEW packages will be installed:\n",
      "  fonts-liberation graphviz libann0 libcdt5 libcgraph6 libgts-0.7-5 libgts-bin\n",
      "  libgvc6 libgvpr2 liblab-gamut1 libpathplan4\n",
      "0 upgraded, 11 newly installed, 0 to remove and 2 not upgraded.\n",
      "Need to get 3032 kB of archives.\n",
      "After this operation, 11.5 MB of additional disk space will be used.\n",
      "Get:1 https://deb.debian.org/debian bullseye/main amd64 fonts-liberation all 1:1.07.4-11 [828 kB]\n",
      "Get:2 https://deb.debian.org/debian bullseye/main amd64 libann0 amd64 1.1.2+doc-7 [25.3 kB]\n",
      "Get:3 https://deb.debian.org/debian bullseye/main amd64 libcdt5 amd64 2.42.2-5 [62.2 kB]\n",
      "Get:4 https://deb.debian.org/debian bullseye/main amd64 libcgraph6 amd64 2.42.2-5 [85.5 kB]\n",
      "Get:5 https://deb.debian.org/debian bullseye/main amd64 libgts-0.7-5 amd64 0.7.6+darcs121130-4+b1 [158 kB]\n",
      "Get:6 https://deb.debian.org/debian bullseye/main amd64 libpathplan4 amd64 2.42.2-5 [64.3 kB]\n",
      "Get:7 https://deb.debian.org/debian bullseye/main amd64 libgvc6 amd64 2.42.2-5 [695 kB]\n",
      "Get:8 https://deb.debian.org/debian bullseye/main amd64 libgvpr2 amd64 2.42.2-5 [212 kB]\n",
      "Get:9 https://deb.debian.org/debian bullseye/main amd64 liblab-gamut1 amd64 2.42.2-5 [221 kB]\n",
      "Get:10 https://deb.debian.org/debian bullseye/main amd64 graphviz amd64 2.42.2-5 [632 kB]\n",
      "Get:11 https://deb.debian.org/debian bullseye/main amd64 libgts-bin amd64 0.7.6+darcs121130-4+b1 [50.3 kB]\n",
      "Fetched 3032 kB in 0s (6811 kB/s) \u001b[0m\u001b[33m\n",
      "\n",
      "\u001b7\u001b[0;23r\u001b8\u001b[1ASelecting previously unselected package fonts-liberation.\n",
      "(Reading database ... 136292 files and directories currently installed.)\n",
      "Preparing to unpack .../00-fonts-liberation_1%3a1.07.4-11_all.deb ...\n",
      "\u001b7\u001b[24;0f\u001b[42m\u001b[30mProgress: [  0%]\u001b[49m\u001b[39m [..........................................................] \u001b8\u001b7\u001b[24;0f\u001b[42m\u001b[30mProgress: [  2%]\u001b[49m\u001b[39m [#.........................................................] \u001b8Unpacking fonts-liberation (1:1.07.4-11) ...\n",
      "\u001b7\u001b[24;0f\u001b[42m\u001b[30mProgress: [  4%]\u001b[49m\u001b[39m [##........................................................] \u001b8Selecting previously unselected package libann0.\n",
      "Preparing to unpack .../01-libann0_1.1.2+doc-7_amd64.deb ...\n",
      "\u001b7\u001b[24;0f\u001b[42m\u001b[30mProgress: [  7%]\u001b[49m\u001b[39m [###.......................................................] \u001b8Unpacking libann0 (1.1.2+doc-7) ...\n",
      "\u001b7\u001b[24;0f\u001b[42m\u001b[30mProgress: [  9%]\u001b[49m\u001b[39m [#####.....................................................] \u001b8Selecting previously unselected package libcdt5:amd64.\n",
      "Preparing to unpack .../02-libcdt5_2.42.2-5_amd64.deb ...\n",
      "\u001b7\u001b[24;0f\u001b[42m\u001b[30mProgress: [ 11%]\u001b[49m\u001b[39m [######....................................................] \u001b8Unpacking libcdt5:amd64 (2.42.2-5) ...\n",
      "\u001b7\u001b[24;0f\u001b[42m\u001b[30mProgress: [ 13%]\u001b[49m\u001b[39m [#######...................................................] \u001b8Selecting previously unselected package libcgraph6:amd64.\n",
      "Preparing to unpack .../03-libcgraph6_2.42.2-5_amd64.deb ...\n",
      "\u001b7\u001b[24;0f\u001b[42m\u001b[30mProgress: [ 16%]\u001b[49m\u001b[39m [#########.................................................] \u001b8Unpacking libcgraph6:amd64 (2.42.2-5) ...\n",
      "\u001b7\u001b[24;0f\u001b[42m\u001b[30mProgress: [ 18%]\u001b[49m\u001b[39m [##########................................................] \u001b8Selecting previously unselected package libgts-0.7-5:amd64.\n",
      "Preparing to unpack .../04-libgts-0.7-5_0.7.6+darcs121130-4+b1_amd64.deb ...\n",
      "\u001b7\u001b[24;0f\u001b[42m\u001b[30mProgress: [ 20%]\u001b[49m\u001b[39m [###########...............................................] \u001b8Unpacking libgts-0.7-5:amd64 (0.7.6+darcs121130-4+b1) ...\n",
      "\u001b7\u001b[24;0f\u001b[42m\u001b[30mProgress: [ 22%]\u001b[49m\u001b[39m [############..............................................] \u001b8Selecting previously unselected package libpathplan4:amd64.\n",
      "Preparing to unpack .../05-libpathplan4_2.42.2-5_amd64.deb ...\n",
      "\u001b7\u001b[24;0f\u001b[42m\u001b[30mProgress: [ 24%]\u001b[49m\u001b[39m [##############............................................] \u001b8Unpacking libpathplan4:amd64 (2.42.2-5) ...\n",
      "\u001b7\u001b[24;0f\u001b[42m\u001b[30mProgress: [ 27%]\u001b[49m\u001b[39m [###############...........................................] \u001b8Selecting previously unselected package libgvc6.\n",
      "Preparing to unpack .../06-libgvc6_2.42.2-5_amd64.deb ...\n",
      "\u001b7\u001b[24;0f\u001b[42m\u001b[30mProgress: [ 29%]\u001b[49m\u001b[39m [################..........................................] \u001b8Unpacking libgvc6 (2.42.2-5) ...\n",
      "\u001b7\u001b[24;0f\u001b[42m\u001b[30mProgress: [ 31%]\u001b[49m\u001b[39m [##################........................................] \u001b8Selecting previously unselected package libgvpr2:amd64.\n",
      "Preparing to unpack .../07-libgvpr2_2.42.2-5_amd64.deb ...\n",
      "\u001b7\u001b[24;0f\u001b[42m\u001b[30mProgress: [ 33%]\u001b[49m\u001b[39m [###################.......................................] \u001b8Unpacking libgvpr2:amd64 (2.42.2-5) ...\n",
      "\u001b7\u001b[24;0f\u001b[42m\u001b[30mProgress: [ 36%]\u001b[49m\u001b[39m [####################......................................] \u001b8Selecting previously unselected package liblab-gamut1:amd64.\n",
      "Preparing to unpack .../08-liblab-gamut1_2.42.2-5_amd64.deb ...\n",
      "\u001b7\u001b[24;0f\u001b[42m\u001b[30mProgress: [ 38%]\u001b[49m\u001b[39m [#####################.....................................] \u001b8Unpacking liblab-gamut1:amd64 (2.42.2-5) ...\n",
      "\u001b7\u001b[24;0f\u001b[42m\u001b[30mProgress: [ 40%]\u001b[49m\u001b[39m [#######################...................................] \u001b8Selecting previously unselected package graphviz.\n",
      "Preparing to unpack .../09-graphviz_2.42.2-5_amd64.deb ...\n",
      "\u001b7\u001b[24;0f\u001b[42m\u001b[30mProgress: [ 42%]\u001b[49m\u001b[39m [########################..................................] \u001b8Unpacking graphviz (2.42.2-5) ...\n",
      "\u001b7\u001b[24;0f\u001b[42m\u001b[30mProgress: [ 44%]\u001b[49m\u001b[39m [#########################.................................] \u001b8Selecting previously unselected package libgts-bin.\n",
      "Preparing to unpack .../10-libgts-bin_0.7.6+darcs121130-4+b1_amd64.deb ...\n",
      "\u001b7\u001b[24;0f\u001b[42m\u001b[30mProgress: [ 47%]\u001b[49m\u001b[39m [###########################...............................] \u001b8Unpacking libgts-bin (0.7.6+darcs121130-4+b1) ...\n",
      "\u001b7\u001b[24;0f\u001b[42m\u001b[30mProgress: [ 49%]\u001b[49m\u001b[39m [############################..............................] \u001b8Setting up liblab-gamut1:amd64 (2.42.2-5) ...\n",
      "\u001b7\u001b[24;0f\u001b[42m\u001b[30mProgress: [ 51%]\u001b[49m\u001b[39m [#############################.............................] \u001b8\u001b7\u001b[24;0f\u001b[42m\u001b[30mProgress: [ 53%]\u001b[49m\u001b[39m [##############################............................] \u001b8Setting up libgts-0.7-5:amd64 (0.7.6+darcs121130-4+b1) ...\n",
      "\u001b7\u001b[24;0f\u001b[42m\u001b[30mProgress: [ 56%]\u001b[49m\u001b[39m [################################..........................] \u001b8\u001b7\u001b[24;0f\u001b[42m\u001b[30mProgress: [ 58%]\u001b[49m\u001b[39m [#################################.........................] \u001b8Setting up libpathplan4:amd64 (2.42.2-5) ...\n",
      "\u001b7\u001b[24;0f\u001b[42m\u001b[30mProgress: [ 60%]\u001b[49m\u001b[39m [##################################........................] \u001b8\u001b7\u001b[24;0f\u001b[42m\u001b[30mProgress: [ 62%]\u001b[49m\u001b[39m [####################################......................] \u001b8Setting up libann0 (1.1.2+doc-7) ...\n",
      "\u001b7\u001b[24;0f\u001b[42m\u001b[30mProgress: [ 64%]\u001b[49m\u001b[39m [#####################################.....................] \u001b8\u001b7\u001b[24;0f\u001b[42m\u001b[30mProgress: [ 67%]\u001b[49m\u001b[39m [######################################....................] \u001b8Setting up fonts-liberation (1:1.07.4-11) ...\n",
      "\u001b7\u001b[24;0f\u001b[42m\u001b[30mProgress: [ 69%]\u001b[49m\u001b[39m [#######################################...................] \u001b8\u001b7\u001b[24;0f\u001b[42m\u001b[30mProgress: [ 71%]\u001b[49m\u001b[39m [#########################################.................] \u001b8Setting up libcdt5:amd64 (2.42.2-5) ...\n",
      "\u001b7\u001b[24;0f\u001b[42m\u001b[30mProgress: [ 73%]\u001b[49m\u001b[39m [##########################################................] \u001b8\u001b7\u001b[24;0f\u001b[42m\u001b[30mProgress: [ 76%]\u001b[49m\u001b[39m [###########################################...............] \u001b8Setting up libcgraph6:amd64 (2.42.2-5) ...\n",
      "\u001b7\u001b[24;0f\u001b[42m\u001b[30mProgress: [ 78%]\u001b[49m\u001b[39m [#############################################.............] \u001b8\u001b7\u001b[24;0f\u001b[42m\u001b[30mProgress: [ 80%]\u001b[49m\u001b[39m [##############################################............] \u001b8Setting up libgts-bin (0.7.6+darcs121130-4+b1) ...\n",
      "\u001b7\u001b[24;0f\u001b[42m\u001b[30mProgress: [ 82%]\u001b[49m\u001b[39m [###############################################...........] \u001b8\u001b7\u001b[24;0f\u001b[42m\u001b[30mProgress: [ 84%]\u001b[49m\u001b[39m [################################################..........] \u001b8Setting up libgvc6 (2.42.2-5) ...\n",
      "\u001b7\u001b[24;0f\u001b[42m\u001b[30mProgress: [ 87%]\u001b[49m\u001b[39m [##################################################........] \u001b8\u001b7\u001b[24;0f\u001b[42m\u001b[30mProgress: [ 89%]\u001b[49m\u001b[39m [###################################################.......] \u001b8Setting up libgvpr2:amd64 (2.42.2-5) ...\n",
      "\u001b7\u001b[24;0f\u001b[42m\u001b[30mProgress: [ 91%]\u001b[49m\u001b[39m [####################################################......] \u001b8\u001b7\u001b[24;0f\u001b[42m\u001b[30mProgress: [ 93%]\u001b[49m\u001b[39m [######################################################....] \u001b8Setting up graphviz (2.42.2-5) ...\n",
      "\u001b7\u001b[24;0f\u001b[42m\u001b[30mProgress: [ 96%]\u001b[49m\u001b[39m [#######################################################...] \u001b8\u001b7\u001b[24;0f\u001b[42m\u001b[30mProgress: [ 98%]\u001b[49m\u001b[39m [########################################################..] \u001b8Processing triggers for libc-bin (2.31-13+deb11u8) ...\n",
      "ldconfig: /lib/libnvinfer_vc_plugin.so.8 is not a symbolic link\n",
      "\n",
      "ldconfig: /lib/libnvinfer_dispatch.so.8 is not a symbolic link\n",
      "\n",
      "ldconfig: /lib/libnvparsers.so.8 is not a symbolic link\n",
      "\n",
      "ldconfig: /lib/libnvonnxparser.so.8 is not a symbolic link\n",
      "\n",
      "ldconfig: /lib/libnvinfer_plugin.so.8 is not a symbolic link\n",
      "\n",
      "ldconfig: /lib/libnvinfer_lean.so.8 is not a symbolic link\n",
      "\n",
      "ldconfig: /lib/libnvinfer.so.8 is not a symbolic link\n",
      "\n",
      "Processing triggers for man-db (2.9.4-2) ...\n",
      "Processing triggers for fontconfig (2.13.1-4.2) ...\n",
      "\n",
      "\u001b7\u001b[0;24r\u001b8\u001b[1A\u001b[J"
     ]
    }
   ],
   "source": [
    "import os, json, math, shutil\n",
    "import numpy as np\n",
    "import tensorflow as tf\n",
    "!sudo apt install graphviz -y\n",
    "\n",
    "# environment variables used by bash cells\n",
    "PROJECT=!(gcloud config get-value project)\n",
    "PROJECT=PROJECT[0]\n",
    "\n",
    "REGION = 'us-west1'\n",
    "BUCKET='{}-dsongcp'.format(PROJECT)\n",
    "os.environ['ENDPOINT_NAME'] = 'flights'\n",
    "\n",
    "os.environ['BUCKET'] = BUCKET\n",
    "os.environ['REGION'] = REGION\n",
    "os.environ['TF_VERSION']='2-' + tf.__version__[2:4]"
   ]
  },
  {
   "cell_type": "markdown",
   "id": "776c994e-331b-4cd5-b112-1c63a6953095",
   "metadata": {},
   "source": [
    "Create training dataset flights_train_data for model training:"
   ]
  },
  {
   "cell_type": "code",
   "execution_count": 2,
   "id": "4324b2eb-df7d-48fe-83e5-b15026f4285d",
   "metadata": {
    "tags": []
   },
   "outputs": [
    {
     "data": {
      "application/vnd.jupyter.widget-view+json": {
       "model_id": "5c6fb242534b4b91873b32cb19698984",
       "version_major": 2,
       "version_minor": 0
      },
      "text/plain": [
       "Query is running:   0%|          |"
      ]
     },
     "metadata": {},
     "output_type": "display_data"
    },
    {
     "data": {
      "text/html": [
       "<div>\n",
       "<style scoped>\n",
       "    .dataframe tbody tr th:only-of-type {\n",
       "        vertical-align: middle;\n",
       "    }\n",
       "\n",
       "    .dataframe tbody tr th {\n",
       "        vertical-align: top;\n",
       "    }\n",
       "\n",
       "    .dataframe thead th {\n",
       "        text-align: right;\n",
       "    }\n",
       "</style>\n",
       "<table border=\"1\" class=\"dataframe\">\n",
       "  <thead>\n",
       "    <tr style=\"text-align: right;\">\n",
       "      <th></th>\n",
       "    </tr>\n",
       "  </thead>\n",
       "  <tbody>\n",
       "  </tbody>\n",
       "</table>\n",
       "</div>"
      ],
      "text/plain": [
       "Empty DataFrame\n",
       "Columns: []\n",
       "Index: []"
      ]
     },
     "execution_count": 2,
     "metadata": {},
     "output_type": "execute_result"
    }
   ],
   "source": [
    "%%bigquery\n",
    "CREATE OR REPLACE TABLE dsongcp.flights_train_data AS\n",
    "\n",
    "SELECT\n",
    "  IF(arr_delay < 15, 1.0, 0.0) AS ontime,\n",
    "  dep_delay,\n",
    "  taxi_out,\n",
    "  distance,\n",
    "  origin,\n",
    "  dest,\n",
    "  EXTRACT(hour FROM dep_time) AS dep_hour,\n",
    "  IF (EXTRACT(dayofweek FROM dep_time) BETWEEN 2 AND 6, 1, 0) AS is_weekday,\n",
    "  UNIQUE_CARRIER AS carrier,\n",
    "  dep_airport_lat,\n",
    "  dep_airport_lon,\n",
    "  arr_airport_lat,\n",
    "  arr_airport_lon\n",
    "FROM dsongcp.flights_tzcorr f\n",
    "JOIN dsongcp.trainday t\n",
    "ON f.FL_DATE = t.FL_DATE\n",
    "WHERE\n",
    "  f.CANCELLED = False AND\n",
    "  f.DIVERTED = False AND\n",
    "  is_train_day = 'True'"
   ]
  },
  {
   "cell_type": "markdown",
   "id": "8050dbcd-bac9-4fbf-a206-e06d96cdb13b",
   "metadata": {
    "tags": []
   },
   "source": [
    "Create the evaluation dataset flights_eval_data for model evaluation:"
   ]
  },
  {
   "cell_type": "code",
   "execution_count": 3,
   "id": "73dab82c-8642-4551-ac20-88363815a280",
   "metadata": {
    "tags": []
   },
   "outputs": [
    {
     "data": {
      "application/vnd.jupyter.widget-view+json": {
       "model_id": "1f9e5b7e6cbf4eb49e133b3c31f15197",
       "version_major": 2,
       "version_minor": 0
      },
      "text/plain": [
       "Query is running:   0%|          |"
      ]
     },
     "metadata": {},
     "output_type": "display_data"
    },
    {
     "data": {
      "text/html": [
       "<div>\n",
       "<style scoped>\n",
       "    .dataframe tbody tr th:only-of-type {\n",
       "        vertical-align: middle;\n",
       "    }\n",
       "\n",
       "    .dataframe tbody tr th {\n",
       "        vertical-align: top;\n",
       "    }\n",
       "\n",
       "    .dataframe thead th {\n",
       "        text-align: right;\n",
       "    }\n",
       "</style>\n",
       "<table border=\"1\" class=\"dataframe\">\n",
       "  <thead>\n",
       "    <tr style=\"text-align: right;\">\n",
       "      <th></th>\n",
       "    </tr>\n",
       "  </thead>\n",
       "  <tbody>\n",
       "  </tbody>\n",
       "</table>\n",
       "</div>"
      ],
      "text/plain": [
       "Empty DataFrame\n",
       "Columns: []\n",
       "Index: []"
      ]
     },
     "execution_count": 3,
     "metadata": {},
     "output_type": "execute_result"
    }
   ],
   "source": [
    "%%bigquery\n",
    "CREATE OR REPLACE TABLE dsongcp.flights_eval_data AS\n",
    "\n",
    "SELECT\n",
    "  IF(arr_delay < 15, 1.0, 0.0) AS ontime,\n",
    "  dep_delay,\n",
    "  taxi_out,\n",
    "  distance,\n",
    "  origin,\n",
    "  dest,\n",
    "  EXTRACT(hour FROM dep_time) AS dep_hour,\n",
    "  IF (EXTRACT(dayofweek FROM dep_time) BETWEEN 2 AND 6, 1, 0) AS is_weekday,\n",
    "  UNIQUE_CARRIER AS carrier,\n",
    "  dep_airport_lat,\n",
    "  dep_airport_lon,\n",
    "  arr_airport_lat,\n",
    "  arr_airport_lon\n",
    "FROM dsongcp.flights_tzcorr f\n",
    "JOIN dsongcp.trainday t\n",
    "ON f.FL_DATE = t.FL_DATE\n",
    "WHERE\n",
    "  f.CANCELLED = False AND\n",
    "  f.DIVERTED = False AND\n",
    "  is_train_day = 'False'"
   ]
  },
  {
   "cell_type": "markdown",
   "id": "170fd965-e7bd-4c7e-93c0-f25470f2b505",
   "metadata": {},
   "source": [
    "Create the full dataset flights_all_data using the following code:"
   ]
  },
  {
   "cell_type": "code",
   "execution_count": 4,
   "id": "6386a676-dfdd-4337-93ee-9b9d961e20a4",
   "metadata": {
    "tags": []
   },
   "outputs": [
    {
     "data": {
      "application/vnd.jupyter.widget-view+json": {
       "model_id": "decd00ad23464b26b9c4e17b977d27a1",
       "version_major": 2,
       "version_minor": 0
      },
      "text/plain": [
       "Query is running:   0%|          |"
      ]
     },
     "metadata": {},
     "output_type": "display_data"
    },
    {
     "data": {
      "text/html": [
       "<div>\n",
       "<style scoped>\n",
       "    .dataframe tbody tr th:only-of-type {\n",
       "        vertical-align: middle;\n",
       "    }\n",
       "\n",
       "    .dataframe tbody tr th {\n",
       "        vertical-align: top;\n",
       "    }\n",
       "\n",
       "    .dataframe thead th {\n",
       "        text-align: right;\n",
       "    }\n",
       "</style>\n",
       "<table border=\"1\" class=\"dataframe\">\n",
       "  <thead>\n",
       "    <tr style=\"text-align: right;\">\n",
       "      <th></th>\n",
       "    </tr>\n",
       "  </thead>\n",
       "  <tbody>\n",
       "  </tbody>\n",
       "</table>\n",
       "</div>"
      ],
      "text/plain": [
       "Empty DataFrame\n",
       "Columns: []\n",
       "Index: []"
      ]
     },
     "execution_count": 4,
     "metadata": {},
     "output_type": "execute_result"
    }
   ],
   "source": [
    "%%bigquery\n",
    "CREATE OR REPLACE TABLE dsongcp.flights_all_data AS\n",
    "\n",
    "SELECT\n",
    "  IF(arr_delay < 15, 1.0, 0.0) AS ontime,\n",
    "  dep_delay,\n",
    "  taxi_out,\n",
    "  distance,\n",
    "  origin,\n",
    "  dest,\n",
    "  EXTRACT(hour FROM dep_time) AS dep_hour,\n",
    "  IF (EXTRACT(dayofweek FROM dep_time) BETWEEN 2 AND 6, 1, 0) AS is_weekday,\n",
    "  UNIQUE_CARRIER AS carrier,\n",
    "  dep_airport_lat,\n",
    "  dep_airport_lon,\n",
    "  arr_airport_lat,\n",
    "  arr_airport_lon,\n",
    "  IF (is_train_day = 'True',\n",
    "      IF(ABS(MOD(FARM_FINGERPRINT(CAST(f.FL_DATE AS STRING)), 100)) < 60, 'TRAIN', 'VALIDATE'),\n",
    "      'TEST') AS data_split\n",
    "FROM dsongcp.flights_tzcorr f\n",
    "JOIN dsongcp.trainday t\n",
    "ON f.FL_DATE = t.FL_DATE\n",
    "WHERE\n",
    "  f.CANCELLED = False AND\n",
    "  f.DIVERTED = False"
   ]
  },
  {
   "cell_type": "markdown",
   "id": "8dc789a4-f633-4b53-a708-092b44d2b6ac",
   "metadata": {},
   "source": [
    "Export the training, validation, and full datasets to CSV file format to the Google Cloud Storage bucket"
   ]
  },
  {
   "cell_type": "code",
   "execution_count": 5,
   "id": "2c2ada68-fce0-4680-a508-5624e9175a0d",
   "metadata": {
    "tags": []
   },
   "outputs": [
    {
     "name": "stdout",
     "output_type": "stream",
     "text": [
      "Exporting dsongcp.flights_train_data to gs://qwiklabs-gcp-00-296140180bbf-dsongcp/ch9/data/train.csv and deleting table\n"
     ]
    },
    {
     "name": "stderr",
     "output_type": "stream",
     "text": [
      "/usr/lib/google-cloud-sdk/platform/bq/third_party/requests/__init__.py:103: RequestsDependencyWarning: urllib3 (2.0.7) or chardet (None)/charset_normalizer (2.0.7) doesn't match a supported version!\n",
      "  warnings.warn(\"urllib3 ({}) or chardet ({})/charset_normalizer ({}) doesn't match a supported \"\n",
      "Waiting on bqjob_r3303143c3796dbdf_0000018eb91b8684_1 ... (65s) Current status: DONE   \n",
      "/usr/lib/google-cloud-sdk/platform/bq/third_party/requests/__init__.py:103: RequestsDependencyWarning: urllib3 (2.0.7) or chardet (None)/charset_normalizer (2.0.7) doesn't match a supported version!\n",
      "  warnings.warn(\"urllib3 ({}) or chardet ({})/charset_normalizer ({}) doesn't match a supported \"\n"
     ]
    },
    {
     "name": "stdout",
     "output_type": "stream",
     "text": [
      "Exporting dsongcp.flights_eval_data to gs://qwiklabs-gcp-00-296140180bbf-dsongcp/ch9/data/eval.csv and deleting table\n"
     ]
    },
    {
     "name": "stderr",
     "output_type": "stream",
     "text": [
      "/usr/lib/google-cloud-sdk/platform/bq/third_party/requests/__init__.py:103: RequestsDependencyWarning: urllib3 (2.0.7) or chardet (None)/charset_normalizer (2.0.7) doesn't match a supported version!\n",
      "  warnings.warn(\"urllib3 ({}) or chardet ({})/charset_normalizer ({}) doesn't match a supported \"\n",
      "Waiting on bqjob_r579b9001cd7e808a_0000018eb91c96d6_1 ... (34s) Current status: DONE   \n",
      "/usr/lib/google-cloud-sdk/platform/bq/third_party/requests/__init__.py:103: RequestsDependencyWarning: urllib3 (2.0.7) or chardet (None)/charset_normalizer (2.0.7) doesn't match a supported version!\n",
      "  warnings.warn(\"urllib3 ({}) or chardet ({})/charset_normalizer ({}) doesn't match a supported \"\n"
     ]
    },
    {
     "name": "stdout",
     "output_type": "stream",
     "text": [
      "Exporting dsongcp.flights_all_data to gs://qwiklabs-gcp-00-296140180bbf-dsongcp/ch9/data/all.csv and deleting table\n"
     ]
    },
    {
     "name": "stderr",
     "output_type": "stream",
     "text": [
      "/usr/lib/google-cloud-sdk/platform/bq/third_party/requests/__init__.py:103: RequestsDependencyWarning: urllib3 (2.0.7) or chardet (None)/charset_normalizer (2.0.7) doesn't match a supported version!\n",
      "  warnings.warn(\"urllib3 ({}) or chardet ({})/charset_normalizer ({}) doesn't match a supported \"\n",
      "Waiting on bqjob_r57dda4708126f391_0000018eb91d2cd3_1 ... (109s) Current status: DONE   \n",
      "/usr/lib/google-cloud-sdk/platform/bq/third_party/requests/__init__.py:103: RequestsDependencyWarning: urllib3 (2.0.7) or chardet (None)/charset_normalizer (2.0.7) doesn't match a supported version!\n",
      "  warnings.warn(\"urllib3 ({}) or chardet ({})/charset_normalizer ({}) doesn't match a supported \"\n"
     ]
    }
   ],
   "source": [
    "%%bash\n",
    "PROJECT=$(gcloud config get-value project)\n",
    "for dataset in \"train\" \"eval\" \"all\"; do\n",
    "  TABLE=dsongcp.flights_${dataset}_data\n",
    "  CSV=gs://${BUCKET}/ch9/data/${dataset}.csv\n",
    "  echo \"Exporting ${TABLE} to ${CSV} and deleting table\"\n",
    "  bq --project_id=${PROJECT} extract --destination_format=CSV $TABLE $CSV\n",
    "  bq --project_id=${PROJECT} rm -f $TABLE\n",
    "done"
   ]
  },
  {
   "cell_type": "markdown",
   "id": "2eb66743-aaf8-40c3-8235-e2dfb7f7814d",
   "metadata": {},
   "source": [
    "List exported objects to Google Cloud Storage bucket"
   ]
  },
  {
   "cell_type": "code",
   "execution_count": 8,
   "id": "cd13a6ee-7a1c-4dd3-8005-84cd0ace5b25",
   "metadata": {
    "tags": []
   },
   "outputs": [
    {
     "name": "stdout",
     "output_type": "stream",
     "text": [
      "445.01 MiB  2024-04-07T13:57:18Z  gs://qwiklabs-gcp-03-2fffc1dadae2-dsongcp/ch9/data/all.csv\n",
      "115.19 MiB  2024-04-07T13:55:33Z  gs://qwiklabs-gcp-03-2fffc1dadae2-dsongcp/ch9/data/eval.csv\n",
      "296.96 MiB  2024-04-07T13:54:59Z  gs://qwiklabs-gcp-03-2fffc1dadae2-dsongcp/ch9/data/train.csv\n",
      "TOTAL: 3 objects, 898801258 bytes (857.16 MiB)\n"
     ]
    }
   ],
   "source": [
    "!gsutil ls -lh gs://{BUCKET}/ch9/data"
   ]
  },
  {
   "cell_type": "code",
   "execution_count": 6,
   "id": "dad5b461-aefd-4d54-9cad-412831013e99",
   "metadata": {
    "tags": []
   },
   "outputs": [],
   "source": [
    "# For development purposes, train for a few epochs. That's why the NUM_EXAMPLES is so low\n",
    "DEVELOP_MODE = True\n",
    "NUM_EXAMPLES = 5000*1000"
   ]
  },
  {
   "cell_type": "code",
   "execution_count": 7,
   "id": "c56aab8a-6d97-4e00-a679-ee17ee6630b9",
   "metadata": {
    "tags": []
   },
   "outputs": [],
   "source": [
    "# Assign your training and validation data URI to training_data_uri and validation_data_uri respectively\n",
    "training_data_uri = 'gs://{}/ch9/data/train*'.format(BUCKET)\n",
    "validation_data_uri = 'gs://{}/ch9/data/eval*'.format(BUCKET)"
   ]
  },
  {
   "cell_type": "code",
   "execution_count": 8,
   "id": "9bd2cbc1-08cb-469c-aa00-d66b4b996093",
   "metadata": {
    "tags": []
   },
   "outputs": [],
   "source": [
    "# Set up Model Parameters\n",
    "NBUCKETS = 5\n",
    "NEMBEDS = 3\n",
    "TRAIN_BATCH_SIZE = 64\n",
    "DNN_HIDDEN_UNITS = '64,32'"
   ]
  },
  {
   "cell_type": "code",
   "execution_count": 9,
   "id": "e37a4797-aa73-4ea1-a089-9b052561c46d",
   "metadata": {
    "tags": []
   },
   "outputs": [
    {
     "name": "stderr",
     "output_type": "stream",
     "text": [
      "2024-04-07 15:16:40.784370: W tensorflow/compiler/xla/stream_executor/platform/default/dso_loader.cc:64] Could not load dynamic library 'libcuda.so.1'; dlerror: libcuda.so.1: cannot open shared object file: No such file or directory; LD_LIBRARY_PATH: /usr/local/cuda/lib64:/usr/local/nccl2/lib:/usr/local/cuda/extras/CUPTI/lib64:/opt/conda/lib\n",
      "2024-04-07 15:16:40.784458: W tensorflow/compiler/xla/stream_executor/cuda/cuda_driver.cc:265] failed call to cuInit: UNKNOWN ERROR (303)\n",
      "2024-04-07 15:16:40.784498: I tensorflow/compiler/xla/stream_executor/cuda/cuda_diagnostics.cc:156] kernel driver does not appear to be running on this host (instance-20240407-075511): /proc/driver/nvidia/version does not exist\n",
      "2024-04-07 15:16:40.863806: I tensorflow/core/platform/cpu_feature_guard.cc:193] This TensorFlow binary is optimized with oneAPI Deep Neural Network Library (oneDNN) to use the following CPU instructions in performance-critical operations:  AVX2 FMA\n",
      "To enable them in other operations, rebuild TensorFlow with the appropriate compiler flags.\n"
     ]
    },
    {
     "name": "stdout",
     "output_type": "stream",
     "text": [
      "0 {'ontime': array([1, 1, 1, 1, 1], dtype=int32), 'dep_delay': array([ -8,  -6,   1, -13,   0], dtype=int32), 'taxi_out': array([20, 16,  9, 13, 31], dtype=int32), 'distance': array([190, 284, 991, 421, 282], dtype=int32), 'origin': array([b'IAH', b'DTW', b'DEN', b'PSP', b'DFW'], dtype=object), 'dest': array([b'AEX', b'CIU', b'PDX', b'SFO', b'LBB'], dtype=object), 'dep_hour': array([15, 17,  3, 14, 13], dtype=int32), 'is_weekday': array([1, 1, 1, 0, 1], dtype=int32), 'carrier': array([b'EV', b'OO', b'F9', b'AS', b'MQ'], dtype=object), 'dep_airport_lat': array([29.984444, 42.2125  , 39.861668, 33.829723, 32.89722 ],\n",
      "      dtype=float32), 'dep_airport_lon': array([ -95.34139,  -83.35333, -104.67306, -116.50667,  -97.03778],\n",
      "      dtype=float32), 'arr_airport_lat': array([31.3275  , 46.25083 , 45.58861 , 37.61889 , 33.663612],\n",
      "      dtype=float32), 'arr_airport_lon': array([ -92.548615,  -84.4725  , -122.59695 , -122.375   , -101.82056 ],\n",
      "      dtype=float32)}\n",
      "1 {'ontime': array([1, 1, 1, 1, 0], dtype=int32), 'dep_delay': array([-5, -7, 10, -1, 18], dtype=int32), 'taxi_out': array([22, 11, 17, 10, 13], dtype=int32), 'distance': array([1504,  216, 1616,  500,  216], dtype=int32), 'origin': array([b'AUS', b'HNL', b'DFW', b'ATL', b'HNL'], dtype=object), 'dest': array([b'SFO', b'ITO', b'PDX', b'AEX', b'ITO'], dtype=object), 'dep_hour': array([13, 17, 20, 20,  3], dtype=int32), 'is_weekday': array([1, 0, 1, 1, 1], dtype=int32), 'carrier': array([b'VX', b'HA', b'NK', b'EV', b'HA'], dtype=object), 'dep_airport_lat': array([30.194445, 21.317778, 32.89722 , 33.636665, 21.317778],\n",
      "      dtype=float32), 'dep_airport_lon': array([ -97.67   , -157.92027,  -97.03778,  -84.42778, -157.92027],\n",
      "      dtype=float32), 'arr_airport_lat': array([37.61889 , 19.720278, 45.58861 , 31.3275  , 19.720278],\n",
      "      dtype=float32), 'arr_airport_lon': array([-122.375   , -155.04834 , -122.59695 ,  -92.548615, -155.04834 ],\n",
      "      dtype=float32)}\n"
     ]
    }
   ],
   "source": [
    "# read the CSV files from Google Cloud Storage into TensorFlow\n",
    "if DEVELOP_MODE:\n",
    "    train_df = tf.data.experimental.make_csv_dataset(training_data_uri, batch_size=5)\n",
    "    for n, data in enumerate(train_df):\n",
    "        numpy_data = {k: v.numpy() for k, v in data.items()}\n",
    "        print(n, numpy_data)\n",
    "        if n==1: break"
   ]
  },
  {
   "cell_type": "code",
   "execution_count": 10,
   "id": "3dfba611-5566-4f2a-a4b4-dd11bf485d09",
   "metadata": {
    "tags": []
   },
   "outputs": [],
   "source": [
    "# util functions\n",
    "\n",
    "def features_and_labels(features):\n",
    "  label = features.pop('ontime')\n",
    "  return features, label\n",
    "\n",
    "def read_dataset(pattern, batch_size, mode=tf.estimator.ModeKeys.TRAIN, truncate=None):\n",
    "  dataset = tf.data.experimental.make_csv_dataset(pattern, batch_size, num_epochs=1)\n",
    "  dataset = dataset.map(features_and_labels)\n",
    "  if mode == tf.estimator.ModeKeys.TRAIN:\n",
    "    dataset = dataset.shuffle(batch_size*10)\n",
    "    dataset = dataset.repeat()\n",
    "  dataset = dataset.prefetch(1)\n",
    "  if truncate is not None:\n",
    "    dataset = dataset.take(truncate)\n",
    "  return dataset"
   ]
  },
  {
   "cell_type": "code",
   "execution_count": 15,
   "id": "59e02739-9315-4f7e-b6e1-14800b9f0819",
   "metadata": {
    "tags": []
   },
   "outputs": [
    {
     "name": "stdout",
     "output_type": "stream",
     "text": [
      "Checking input pipeline\n",
      "[(OrderedDict([('dep_delay', <tf.Tensor: shape=(2,), dtype=int32, numpy=array([-5, 27], dtype=int32)>), ('taxi_out', <tf.Tensor: shape=(2,), dtype=int32, numpy=array([12, 10], dtype=int32)>), ('distance', <tf.Tensor: shape=(2,), dtype=int32, numpy=array([1448,  948], dtype=int32)>), ('origin', <tf.Tensor: shape=(2,), dtype=string, numpy=array([b'SEA', b'SJC'], dtype=object)>), ('dest', <tf.Tensor: shape=(2,), dtype=string, numpy=array([b'ANC', b'DEN'], dtype=object)>), ('dep_hour', <tf.Tensor: shape=(2,), dtype=int32, numpy=array([14, 21], dtype=int32)>), ('is_weekday', <tf.Tensor: shape=(2,), dtype=int32, numpy=array([1, 1], dtype=int32)>), ('carrier', <tf.Tensor: shape=(2,), dtype=string, numpy=array([b'AS', b'WN'], dtype=object)>), ('dep_airport_lat', <tf.Tensor: shape=(2,), dtype=float32, numpy=array([47.45    , 37.362778], dtype=float32)>), ('dep_airport_lon', <tf.Tensor: shape=(2,), dtype=float32, numpy=array([-122.31167, -121.92917], dtype=float32)>), ('arr_airport_lat', <tf.Tensor: shape=(2,), dtype=float32, numpy=array([61.174168, 39.861668], dtype=float32)>), ('arr_airport_lon', <tf.Tensor: shape=(2,), dtype=float32, numpy=array([-149.99806, -104.67306], dtype=float32)>)]), <tf.Tensor: shape=(2,), dtype=int32, numpy=array([1, 0], dtype=int32)>)]\n"
     ]
    }
   ],
   "source": [
    "if DEVELOP_MODE:\n",
    "    print(\"Checking input pipeline\")\n",
    "    one_item = read_dataset(training_data_uri, batch_size=2, truncate=1)\n",
    "    print(list(one_item)) # should print one batch of 2 items"
   ]
  },
  {
   "cell_type": "code",
   "execution_count": 11,
   "id": "69b664c5-b8fb-4be4-b669-da4c96dc57cf",
   "metadata": {
    "tags": []
   },
   "outputs": [],
   "source": [
    "# keep the real-valued columns separate from the sparse (or string) columns\n",
    "import tensorflow as tf\n",
    "\n",
    "real = {\n",
    "    colname : tf.feature_column.numeric_column(colname)\n",
    "          for colname in\n",
    "            (\n",
    "                'dep_delay,taxi_out,distance,dep_hour,is_weekday,' +\n",
    "                'dep_airport_lat,dep_airport_lon,' +\n",
    "                'arr_airport_lat,arr_airport_lon'\n",
    "            ).split(',')\n",
    "}\n",
    "sparse = {\n",
    "      'carrier': tf.feature_column.categorical_column_with_vocabulary_list('carrier',\n",
    "                  vocabulary_list='AS,VX,F9,UA,US,WN,HA,EV,MQ,DL,OO,B6,NK,AA'.split(',')),\n",
    "      'origin' : tf.feature_column.categorical_column_with_hash_bucket('origin', hash_bucket_size=1000),\n",
    "      'dest'   : tf.feature_column.categorical_column_with_hash_bucket('dest', hash_bucket_size=1000),\n",
    "}"
   ]
  },
  {
   "cell_type": "code",
   "execution_count": 12,
   "id": "988ef522-6986-4668-bfd9-1879a6e5b489",
   "metadata": {
    "tags": []
   },
   "outputs": [],
   "source": [
    "# Input layers map 1:1 to the input features and their types, \n",
    "# create an input layer for each of these columns, specifying the right data type (either a float or a string)\n",
    "inputs = {\n",
    "    colname : tf.keras.layers.Input(name=colname, shape=(), dtype='float32')\n",
    "          for colname in real.keys()\n",
    "}\n",
    "inputs.update({\n",
    "    colname : tf.keras.layers.Input(name=colname, shape=(), dtype='string')\n",
    "          for colname in sparse.keys()\n",
    "})"
   ]
  },
  {
   "cell_type": "markdown",
   "id": "d4cc51c5-5188-4ee6-b5e8-7c4700a21457",
   "metadata": {},
   "source": [
    "Bucketing\n",
    "\n",
    "Real-valued columns whose precision is overkill (thus, likely to cause overfitting) can be discretized and made into categorical columns. For example, if you have a column for the age of the aircraft, you might discretize into just three bins—less than 5 years old, 5 to 20 years old, and more than 20 years old. Use the discretization shortcut: you can discretize the latitudes and longitudes and cross the buckets—this results in breaking up the country into grids and yield the grid point into which a specific latitude and longitude falls. OKAY!"
   ]
  },
  {
   "cell_type": "code",
   "execution_count": 13,
   "id": "9988817a-bdaa-4230-a717-0bad9b5f03e1",
   "metadata": {
    "tags": []
   },
   "outputs": [
    {
     "name": "stdout",
     "output_type": "stream",
     "text": [
      "dict_keys(['carrier', 'origin', 'dest', 'dep_loc', 'arr_loc', 'dep_arr'])\n",
      "dict_keys(['dep_delay', 'taxi_out', 'distance', 'dep_hour', 'is_weekday', 'dep_airport_lat', 'dep_airport_lon', 'arr_airport_lat', 'arr_airport_lon', 'embed_carrier', 'embed_origin', 'embed_dest', 'embed_dep_loc', 'embed_arr_loc', 'embed_dep_arr'])\n"
     ]
    }
   ],
   "source": [
    "# discretize the latitudes and longitudes and cross the buckets—this results in breaking up the country into grids \n",
    "# and yield the grid point into which a specific latitude and longitude falls.\n",
    "\n",
    "# np.linspace(20.0, 50.0, 5).tolist() -> [20.0, 27.5, 35.0, 42.5, 50.0]\n",
    "latbuckets = np.linspace(20.0, 50.0, NBUCKETS).tolist()  # USA\n",
    "lonbuckets = np.linspace(-120.0, -70.0, NBUCKETS).tolist() # USA\n",
    "disc = {}\n",
    "disc.update({\n",
    "       'd_{}'.format(key) : tf.feature_column.bucketized_column(real[key], latbuckets)\n",
    "          for key in ['dep_airport_lat', 'arr_airport_lat']\n",
    "})\n",
    "disc.update({\n",
    "       'd_{}'.format(key) : tf.feature_column.bucketized_column(real[key], lonbuckets)\n",
    "          for key in ['dep_airport_lon', 'arr_airport_lon']\n",
    "})\n",
    "\n",
    "# cross columns that make sense in combination\n",
    "sparse['dep_loc'] = tf.feature_column.crossed_column(\n",
    "    [disc['d_dep_airport_lat'], disc['d_dep_airport_lon']], NBUCKETS*NBUCKETS)\n",
    "sparse['arr_loc'] = tf.feature_column.crossed_column(\n",
    "    [disc['d_arr_airport_lat'], disc['d_arr_airport_lon']], NBUCKETS*NBUCKETS)\n",
    "sparse['dep_arr'] = tf.feature_column.crossed_column([sparse['dep_loc'], sparse['arr_loc']], NBUCKETS ** 4)\n",
    "\n",
    "# embed all the sparse columns\n",
    "embed = {\n",
    "       'embed_{}'.format(colname) : tf.feature_column.embedding_column(col, NEMBEDS)\n",
    "          for colname, col in sparse.items()\n",
    "}\n",
    "real.update(embed)\n",
    "\n",
    "# one-hot encode the sparse columns\n",
    "sparse = {\n",
    "    colname : tf.feature_column.indicator_column(col)\n",
    "          for colname, col in sparse.items()\n",
    "}\n",
    "\n",
    "if DEVELOP_MODE:\n",
    "    print(sparse.keys())\n",
    "    print(real.keys())"
   ]
  },
  {
   "cell_type": "code",
   "execution_count": 14,
   "id": "95804c90-a089-4d4a-bf3f-f8984ec4be47",
   "metadata": {
    "tags": []
   },
   "outputs": [
    {
     "name": "stdout",
     "output_type": "stream",
     "text": [
      "Writing trained model to gs://qwiklabs-gcp-00-296140180bbf-dsongcp/ch9/trained_model\n"
     ]
    }
   ],
   "source": [
    "# create save checkpoint\n",
    "output_dir='gs://{}/ch9/trained_model'.format(BUCKET)\n",
    "os.environ['OUTDIR'] = output_dir  # needed for deployment\n",
    "print('Writing trained model to {}'.format(output_dir))"
   ]
  },
  {
   "cell_type": "code",
   "execution_count": 21,
   "id": "15e73061-4c29-4c45-b6f2-1387f67e6b96",
   "metadata": {
    "tags": []
   },
   "outputs": [
    {
     "name": "stdout",
     "output_type": "stream",
     "text": [
      "Removing gs://qwiklabs-gcp-00-296140180bbf-dsongcp/ch9/trained_model/#1712503074556376...\n",
      "Removing gs://qwiklabs-gcp-00-296140180bbf-dsongcp/ch9/trained_model/checkpoints/#1712503074822897...\n",
      "Removing gs://qwiklabs-gcp-00-296140180bbf-dsongcp/ch9/trained_model/checkpoints/checkpoint#1712503244861488...\n",
      "Removing gs://qwiklabs-gcp-00-296140180bbf-dsongcp/ch9/trained_model/checkpoints/flights.cpt.data-00000-of-00001#1712503244183874...\n",
      "Removing gs://qwiklabs-gcp-00-296140180bbf-dsongcp/ch9/trained_model/checkpoints/flights.cpt.index#1712503244368289...\n",
      "/ [5/5 objects] 100% Done                                                       \n",
      "Operation completed over 5 objects.                                              \n"
     ]
    }
   ],
   "source": [
    "# delete any other model checkpoints\n",
    "!gsutil -m rm -rf $OUTDIR"
   ]
  },
  {
   "cell_type": "code",
   "execution_count": 16,
   "id": "08d53992-f2fc-4e82-a698-4f42cacc1ba0",
   "metadata": {
    "tags": []
   },
   "outputs": [
    {
     "data": {
      "image/png": "[encoded data removed]",
      "text/plain": [
       "<IPython.core.display.Image object>"
      ]
     },
     "execution_count": 16,
     "metadata": {},
     "output_type": "execute_result"
    }
   ],
   "source": [
    "# wide and deep classifier\n",
    "# Build a wide-and-deep model\n",
    "\n",
    "def wide_and_deep_classifier(inputs, linear_feature_columns, dnn_feature_columns, dnn_hidden_units):\n",
    "    deep = tf.keras.layers.DenseFeatures(dnn_feature_columns, name='deep_inputs')(inputs)\n",
    "    layers = [int(x) for x in dnn_hidden_units.split(',')]\n",
    "    for layerno, numnodes in enumerate(layers):\n",
    "        deep = tf.keras.layers.Dense(numnodes, activation='relu', name='dnn_{}'.format(layerno+1))(deep)        \n",
    "    wide = tf.keras.layers.DenseFeatures(linear_feature_columns, name='wide_inputs')(inputs)\n",
    "    both = tf.keras.layers.concatenate([deep, wide], name='both')\n",
    "    output = tf.keras.layers.Dense(1, activation='sigmoid', name='pred')(both)\n",
    "    model = tf.keras.Model(inputs, output)\n",
    "    model.compile(optimizer='adam',\n",
    "                  loss='binary_crossentropy',\n",
    "                  metrics=['accuracy'])\n",
    "    return model\n",
    "\n",
    "model = wide_and_deep_classifier(\n",
    "    inputs,\n",
    "    linear_feature_columns = sparse.values(),\n",
    "    dnn_feature_columns = real.values(),\n",
    "    dnn_hidden_units = DNN_HIDDEN_UNITS)\n",
    "tf.keras.utils.plot_model(model, 'flights_model.png', show_shapes=False, rankdir='LR')"
   ]
  },
  {
   "cell_type": "code",
   "execution_count": 22,
   "id": "1697cd89-9bc3-4882-837a-3b54c861877f",
   "metadata": {
    "tags": []
   },
   "outputs": [
    {
     "name": "stdout",
     "output_type": "stream",
     "text": [
      "Epoch 1/2\n",
      "1/3 [=========>....................] - ETA: 3s - loss: 1.4210 - accuracy: 0.7500\n",
      "Epoch 1: saving model to gs://qwiklabs-gcp-00-296140180bbf-dsongcp/ch9/trained_model/checkpoints/flights.cpt\n",
      "3/3 [==============================] - 11s 4s/step - loss: 1.2922 - accuracy: 0.7812 - val_loss: 1.6679 - val_accuracy: 0.8186\n",
      "Epoch 2/2\n",
      "1/3 [=========>....................] - ETA: 0s - loss: 2.5297 - accuracy: 0.7188\n",
      "Epoch 2: saving model to gs://qwiklabs-gcp-00-296140180bbf-dsongcp/ch9/trained_model/checkpoints/flights.cpt\n",
      "3/3 [==============================] - 8s 4s/step - loss: 2.0868 - accuracy: 0.8125 - val_loss: 1.7434 - val_accuracy: 0.8183\n"
     ]
    }
   ],
   "source": [
    "# train and evaluate model\n",
    "\n",
    "# training and evaluation dataset\n",
    "train_batch_size = TRAIN_BATCH_SIZE\n",
    "if DEVELOP_MODE:\n",
    "    eval_batch_size = 100\n",
    "    steps_per_epoch = 3\n",
    "    epochs = 2\n",
    "    num_eval_examples = eval_batch_size*10\n",
    "else:\n",
    "    eval_batch_size = 100\n",
    "    steps_per_epoch = NUM_EXAMPLES // train_batch_size\n",
    "    epochs = 10\n",
    "    num_eval_examples = eval_batch_size * 100\n",
    "train_dataset = read_dataset(training_data_uri, train_batch_size)\n",
    "eval_dataset = read_dataset(validation_data_uri, eval_batch_size, tf.estimator.ModeKeys.EVAL, num_eval_examples)\n",
    "\n",
    "checkpoint_path = '{}/checkpoints/flights.cpt'.format(output_dir)\n",
    "shutil.rmtree(checkpoint_path, ignore_errors=True)\n",
    "cp_callback = tf.keras.callbacks.ModelCheckpoint(checkpoint_path,\n",
    "                                                 save_weights_only=True,\n",
    "                                                 verbose=1)\n",
    "\n",
    "history = model.fit(train_dataset,\n",
    "                    validation_data=eval_dataset,\n",
    "                    epochs=epochs,\n",
    "                    steps_per_epoch=steps_per_epoch,\n",
    "                    callbacks=[cp_callback])"
   ]
  },
  {
   "cell_type": "code",
   "execution_count": null,
   "id": "4ebea540-6bb0-4898-99a1-60041d0661d6",
   "metadata": {
    "tags": []
   },
   "outputs": [],
   "source": [
    "# Visualize the model loss and model accuracy\n",
    "\n",
    "import matplotlib.pyplot as plt\n",
    "nrows = 1\n",
    "ncols = 2\n",
    "fig = plt.figure(figsize=(10, 5))\n",
    "\n",
    "for idx, key in enumerate(['loss', 'accuracy']):\n",
    "    ax = fig.add_subplot(nrows, ncols, idx+1)\n",
    "    plt.plot(history.history[key])\n",
    "    plt.plot(history.history['val_{}'.format(key)])\n",
    "    plt.title('model {}'.format(key))\n",
    "    plt.ylabel(key)\n",
    "    plt.xlabel('epoch')\n",
    "    plt.legend(['train', 'validation'], loc='upper left');"
   ]
  },
  {
   "cell_type": "code",
   "execution_count": 23,
   "id": "b85003cc-9694-4e77-abf3-bd218176d63f",
   "metadata": {
    "tags": []
   },
   "outputs": [
    {
     "name": "stdout",
     "output_type": "stream",
     "text": [
      "Exporting to gs://qwiklabs-gcp-00-296140180bbf-dsongcp/ch9/trained_model/export/flights_20240407-152517\n"
     ]
    },
    {
     "name": "stderr",
     "output_type": "stream",
     "text": [
      "WARNING:absl:Found untraced functions such as _update_step_xla while saving (showing 1 of 1). These functions will not be directly callable after loading.\n"
     ]
    },
    {
     "name": "stdout",
     "output_type": "stream",
     "text": [
      "INFO:tensorflow:Assets written to: gs://qwiklabs-gcp-00-296140180bbf-dsongcp/ch9/trained_model/export/flights_20240407-152517/assets\n"
     ]
    },
    {
     "name": "stderr",
     "output_type": "stream",
     "text": [
      "INFO:tensorflow:Assets written to: gs://qwiklabs-gcp-00-296140180bbf-dsongcp/ch9/trained_model/export/flights_20240407-152517/assets\n"
     ]
    }
   ],
   "source": [
    "# export model \n",
    "\n",
    "import time\n",
    "export_dir = '{}/export/flights_{}'.format(output_dir, time.strftime(\"%Y%m%d-%H%M%S\"))\n",
    "print('Exporting to {}'.format(export_dir))\n",
    "tf.saved_model.save(model, export_dir)"
   ]
  },
  {
   "cell_type": "markdown",
   "id": "75321aac-e0d8-48eb-b2df-00888d0bac61",
   "metadata": {},
   "source": [
    "Deploy on vertex AI"
   ]
  },
  {
   "cell_type": "code",
   "execution_count": 24,
   "id": "0ba0d5a5-d5d2-4f56-a4ff-9b5b46bab1fe",
   "metadata": {
    "tags": []
   },
   "outputs": [
    {
     "name": "stdout",
     "output_type": "stream",
     "text": [
      "gs://qwiklabs-gcp-00-296140180bbf-dsongcp/ch9/trained_model/export/flights_20240407-152517/\n"
     ]
    },
    {
     "name": "stderr",
     "output_type": "stream",
     "text": [
      "Using endpoint [https://us-west1-aiplatform.googleapis.com/]\n",
      "WARNING: The following filter keys were not present in any resource : display_name\n"
     ]
    },
    {
     "name": "stdout",
     "output_type": "stream",
     "text": [
      "Creating Endpoint for flights-20240407-152535\n"
     ]
    },
    {
     "name": "stderr",
     "output_type": "stream",
     "text": [
      "Using endpoint [https://us-west1-aiplatform.googleapis.com/]\n",
      "Waiting for operation [5989957928705064960]...\n",
      "......................................................................................................................................................................................................................................................................................................................................................................................................................................................................................................................................................................................................................................................................................................................................................................................done.\n",
      "Created Vertex AI endpoint: projects/836326919103/locations/us-west1/endpoints/3326194197836333056.\n",
      "Using endpoint [https://us-west1-aiplatform.googleapis.com/]\n"
     ]
    },
    {
     "name": "stdout",
     "output_type": "stream",
     "text": [
      "ENDPOINT_ID=3326194197836333056\n"
     ]
    },
    {
     "name": "stderr",
     "output_type": "stream",
     "text": [
      "Using endpoint [https://us-west1-aiplatform.googleapis.com/]\n",
      "WARNING: The following filter keys were not present in any resource : display_name\n",
      "Using endpoint [https://us-west1-aiplatform.googleapis.com/]\n",
      "Waiting for operation [1216142323692339200]...\n",
      "...............................................................................................................................................................................................................................................................................................................................................................................................................................................................................................................................................................................................................................................................................................................................................................................done.\n",
      "Using endpoint [https://us-west1-aiplatform.googleapis.com/]\n"
     ]
    },
    {
     "name": "stdout",
     "output_type": "stream",
     "text": [
      "MODEL_ID=2399952408458297344\n"
     ]
    },
    {
     "name": "stderr",
     "output_type": "stream",
     "text": [
      "Using endpoint [https://us-west1-aiplatform.googleapis.com/]\n",
      "Waiting for operation [303741186684747776]...\n",
      ".................................................................................................................................................................................................................................................................................................................................................................................................................................................................................................................................................................................................................................................................................................................................................................................................................................................................................................................................................................................................................................................................................................................................................................................................................................................................................................................................................................................................................................................................................................................................................................................................................................................................................................................................................................................................................................................................................................................................................................................................................................................................................................................................................................................................................................................................................................................................................................................................................................................................................................................................................................................................................................................................................................................................................................................................................................................................................................................................................................................................................................................................................................................................................................................................................................................................................................................................................................................................................................................................................................................................................................................................................................................................................................................................................................................................................................................................................................................................................................................................................................................................................................................................................................................................................................................................................................................................................................................................................................................................................................................................................................................................................................................................................................................................................................................................................................done.\n",
      "Deployed a model to the endpoint 3326194197836333056. Id of the deployed model: 5933883935200116736.\n"
     ]
    }
   ],
   "source": [
    "%%bash\n",
    "# note TF_VERSION and ENDPOINT_NAME set in 1st cell\n",
    "# TF_VERSION=2-6\n",
    "# ENDPOINT_NAME=flights\n",
    "\n",
    "TIMESTAMP=$(date +%Y%m%d-%H%M%S)\n",
    "MODEL_NAME=${ENDPOINT_NAME}-${TIMESTAMP}\n",
    "EXPORT_PATH=$(gsutil ls ${OUTDIR}/export | tail -1)\n",
    "echo $EXPORT_PATH\n",
    "\n",
    "# create the model endpoint for deploying the model\n",
    "if [[ $(gcloud ai endpoints list --region=$REGION \\\n",
    "        --format='value(DISPLAY_NAME)' --filter=display_name=${ENDPOINT_NAME}) ]]; then\n",
    "    echo \"Endpoint for $MODEL_NAME already exists\"\n",
    "else\n",
    "    echo \"Creating Endpoint for $MODEL_NAME\"\n",
    "    gcloud ai endpoints create --region=${REGION} --display-name=${ENDPOINT_NAME}\n",
    "fi\n",
    "\n",
    "ENDPOINT_ID=$(gcloud ai endpoints list --region=$REGION \\\n",
    "              --format='value(ENDPOINT_ID)' --filter=display_name=${ENDPOINT_NAME})\n",
    "echo \"ENDPOINT_ID=$ENDPOINT_ID\"\n",
    "\n",
    "\n",
    "# delete any existing models with this name\n",
    "for MODEL_ID in $(gcloud ai models list --region=$REGION --format='value(MODEL_ID)' --filter=display_name=${MODEL_NAME}); do\n",
    "    echo \"Deleting existing $MODEL_NAME ... $MODEL_ID \"\n",
    "    gcloud ai models delete --region=$REGION $MODEL_ID\n",
    "done\n",
    "\n",
    "\n",
    "# create the model using the parameters docker conatiner image and artifact uri\n",
    "gcloud ai models upload --region=$REGION --display-name=$MODEL_NAME \\\n",
    "     --container-image-uri=us-docker.pkg.dev/vertex-ai/prediction/tf2-cpu.${TF_VERSION}:latest \\\n",
    "     --artifact-uri=$EXPORT_PATH\n",
    "MODEL_ID=$(gcloud ai models list --region=$REGION --format='value(MODEL_ID)' --filter=display_name=${MODEL_NAME})\n",
    "echo \"MODEL_ID=$MODEL_ID\"\n",
    "\n",
    "\n",
    "# deploy the model to the endpoint\n",
    "gcloud ai endpoints deploy-model $ENDPOINT_ID \\\n",
    "  --region=$REGION \\\n",
    "  --model=$MODEL_ID \\\n",
    "  --display-name=$MODEL_NAME \\\n",
    "  --machine-type=e2-standard-2 \\\n",
    "  --min-replica-count=1 \\\n",
    "  --max-replica-count=1 \\\n",
    "  --traffic-split=0=100"
   ]
  },
  {
   "cell_type": "markdown",
   "id": "ff217a8b-662e-49f4-9c2e-650feb8fab3e",
   "metadata": {},
   "source": [
    "Create a test input file"
   ]
  },
  {
   "cell_type": "code",
   "execution_count": 25,
   "id": "451c811f-be61-4b85-bd45-5a1f21ec3c4f",
   "metadata": {
    "tags": []
   },
   "outputs": [
    {
     "name": "stdout",
     "output_type": "stream",
     "text": [
      "Writing example_input.json\n"
     ]
    }
   ],
   "source": [
    "%%writefile example_input.json\n",
    "{\"instances\": [\n",
    "  {\"dep_hour\": 2, \"is_weekday\": 1, \"dep_delay\": 40, \"taxi_out\": 17, \"distance\": 41, \"carrier\": \"AS\", \"dep_airport_lat\": 58.42527778, \"dep_airport_lon\": -135.7075, \"arr_airport_lat\": 58.35472222, \"arr_airport_lon\": -134.57472222, \"origin\": \"GST\", \"dest\": \"JNU\"},\n",
    "  {\"dep_hour\": 22, \"is_weekday\": 0, \"dep_delay\": -7, \"taxi_out\": 7, \"distance\": 201, \"carrier\": \"HA\", \"dep_airport_lat\": 21.97611111, \"dep_airport_lon\": -159.33888889, \"arr_airport_lat\": 20.89861111, \"arr_airport_lon\": -156.43055556, \"origin\": \"LIH\", \"dest\": \"OGG\"}\n",
    "]}"
   ]
  },
  {
   "cell_type": "markdown",
   "id": "b9fe1ba2-09c1-4b03-9e9f-a0511ee61c1e",
   "metadata": {},
   "source": [
    "Make a prediction from the model endpoint"
   ]
  },
  {
   "cell_type": "code",
   "execution_count": 26,
   "id": "635f1104-b060-4fa6-a315-0551e49505e9",
   "metadata": {
    "tags": []
   },
   "outputs": [
    {
     "name": "stderr",
     "output_type": "stream",
     "text": [
      "Using endpoint [https://us-west1-aiplatform.googleapis.com/]\n"
     ]
    },
    {
     "name": "stdout",
     "output_type": "stream",
     "text": [
      "3326194197836333056\n"
     ]
    },
    {
     "name": "stderr",
     "output_type": "stream",
     "text": [
      "Using endpoint [https://us-west1-prediction-aiplatform.googleapis.com/]\n"
     ]
    },
    {
     "name": "stdout",
     "output_type": "stream",
     "text": [
      "[[0.940806031], [0.981082857]]\n"
     ]
    }
   ],
   "source": [
    "%%bash\n",
    "ENDPOINT_ID=$(gcloud ai endpoints list --region=$REGION \\\n",
    "              --format='value(ENDPOINT_ID)' --filter=display_name=${ENDPOINT_NAME})\n",
    "echo $ENDPOINT_ID\n",
    "gcloud ai endpoints predict $ENDPOINT_ID --region=$REGION --json-request=example_input.json"
   ]
  },
  {
   "cell_type": "markdown",
   "id": "f60e2b2b-6bfc-4621-a56f-17825fbdecba",
   "metadata": {},
   "source": [
    "how client programs can invoke the model that you deployed"
   ]
  },
  {
   "cell_type": "code",
   "execution_count": 27,
   "id": "b8584390-fff9-4b15-9621-678fdf0f8ecc",
   "metadata": {
    "tags": []
   },
   "outputs": [
    {
     "name": "stderr",
     "output_type": "stream",
     "text": [
      "Using endpoint [https://us-west1-aiplatform.googleapis.com/]\n",
      "curl: /opt/conda/lib/libcurl.so.4: no version information available (required by curl)\n",
      "  % Total    % Received % Xferd  Average Speed   Time    Time     Time  Current\n",
      "                                 Dload  Upload   Total   Spent    Left  Speed\n",
      "100   831    0   288  100   543   1040   1960 --:--:-- --:--:-- --:--:--  3010\n"
     ]
    },
    {
     "name": "stdout",
     "output_type": "stream",
     "text": [
      "{\n",
      "  \"predictions\": [\n",
      "    [\n",
      "      0.940806031\n",
      "    ],\n",
      "    [\n",
      "      0.981082857\n",
      "    ]\n",
      "  ],\n",
      "  \"deployedModelId\": \"5933883935200116736\",\n",
      "  \"model\": \"projects/836326919103/locations/us-west1/models/2399952408458297344\",\n",
      "  \"modelDisplayName\": \"flights-20240407-152535\",\n",
      "  \"modelVersionId\": \"1\"\n",
      "}\n"
     ]
    }
   ],
   "source": [
    "%%bash\n",
    "PROJECT=$(gcloud config get-value project)\n",
    "ENDPOINT_ID=$(gcloud ai endpoints list --region=$REGION \\\n",
    "              --format='value(ENDPOINT_ID)' --filter=display_name=${ENDPOINT_NAME})\n",
    "\n",
    "curl -X POST \\\n",
    "  -H \"Authorization: Bearer \"$(gcloud auth application-default print-access-token) \\\n",
    "  -H \"Content-Type: application/json; charset=utf-8\" \\\n",
    "  -d @example_input.json \\\n",
    "  \"https://${REGION}-aiplatform.googleapis.com/v1/projects/${PROJECT}/locations/${REGION}/endpoints/${ENDPOINT_ID}:predict\""
   ]
  },
  {
   "cell_type": "markdown",
   "id": "90654a87-f0d5-4dd1-9104-872a888628fe",
   "metadata": {},
   "source": [
    "Model explainability is one of the most important problems in machine learning. It's a broad concept of analyzing and understanding the results provided by machine learning models. Explainability in machine learning means you can explain what happens in your model from input to output. It makes models transparent and solves the black box problem. Explainable AI (XAI) is the more formal way to describe this."
   ]
  },
  {
   "cell_type": "code",
   "execution_count": 28,
   "id": "3a14a875-1fce-401a-9c36-b290ea379580",
   "metadata": {
    "tags": []
   },
   "outputs": [
    {
     "name": "stdout",
     "output_type": "stream",
     "text": [
      "gs://qwiklabs-gcp-00-296140180bbf-dsongcp/ch9/trained_model/export/flights_20240407-152517/\n"
     ]
    },
    {
     "name": "stderr",
     "output_type": "stream",
     "text": [
      "2024-04-07 15:49:25.270385: I tensorflow/core/platform/cpu_feature_guard.cc:193] This TensorFlow binary is optimized with oneAPI Deep Neural Network Library (oneDNN) to use the following CPU instructions in performance-critical operations:  AVX2 FMA\n",
      "To enable them in other operations, rebuild TensorFlow with the appropriate compiler flags.\n",
      "2024-04-07 15:49:26.514539: W tensorflow/compiler/xla/stream_executor/platform/default/dso_loader.cc:64] Could not load dynamic library 'libnvinfer.so.7'; dlerror: libnvinfer.so.7: cannot open shared object file: No such file or directory; LD_LIBRARY_PATH: /usr/local/cuda/lib64:/usr/local/nccl2/lib:/usr/local/cuda/extras/CUPTI/lib64:/opt/conda/lib\n",
      "2024-04-07 15:49:26.514658: W tensorflow/compiler/xla/stream_executor/platform/default/dso_loader.cc:64] Could not load dynamic library 'libnvinfer_plugin.so.7'; dlerror: libnvinfer_plugin.so.7: cannot open shared object file: No such file or directory; LD_LIBRARY_PATH: /usr/local/cuda/lib64:/usr/local/nccl2/lib:/usr/local/cuda/extras/CUPTI/lib64:/opt/conda/lib\n",
      "2024-04-07 15:49:26.514668: W tensorflow/compiler/tf2tensorrt/utils/py_utils.cc:38] TF-TRT Warning: Cannot dlopen some TensorRT libraries. If you would like to use Nvidia GPU with TensorRT, please make sure the missing libraries mentioned above are installed properly.\n"
     ]
    },
    {
     "name": "stdout",
     "output_type": "stream",
     "text": [
      "The given SavedModel SignatureDef contains the following input(s):\n",
      "  inputs['arr_airport_lat'] tensor_info:\n",
      "      dtype: DT_FLOAT\n",
      "      shape: (-1)\n",
      "      name: serving_default_arr_airport_lat:0\n",
      "  inputs['arr_airport_lon'] tensor_info:\n",
      "      dtype: DT_FLOAT\n",
      "      shape: (-1)\n",
      "      name: serving_default_arr_airport_lon:0\n",
      "  inputs['carrier'] tensor_info:\n",
      "      dtype: DT_STRING\n",
      "      shape: (-1)\n",
      "      name: serving_default_carrier:0\n",
      "  inputs['dep_airport_lat'] tensor_info:\n",
      "      dtype: DT_FLOAT\n",
      "      shape: (-1)\n",
      "      name: serving_default_dep_airport_lat:0\n",
      "  inputs['dep_airport_lon'] tensor_info:\n",
      "      dtype: DT_FLOAT\n",
      "      shape: (-1)\n",
      "      name: serving_default_dep_airport_lon:0\n",
      "  inputs['dep_delay'] tensor_info:\n",
      "      dtype: DT_FLOAT\n",
      "      shape: (-1)\n",
      "      name: serving_default_dep_delay:0\n",
      "  inputs['dep_hour'] tensor_info:\n",
      "      dtype: DT_FLOAT\n",
      "      shape: (-1)\n",
      "      name: serving_default_dep_hour:0\n",
      "  inputs['dest'] tensor_info:\n",
      "      dtype: DT_STRING\n",
      "      shape: (-1)\n",
      "      name: serving_default_dest:0\n",
      "  inputs['distance'] tensor_info:\n",
      "      dtype: DT_FLOAT\n",
      "      shape: (-1)\n",
      "      name: serving_default_distance:0\n",
      "  inputs['is_weekday'] tensor_info:\n",
      "      dtype: DT_FLOAT\n",
      "      shape: (-1)\n",
      "      name: serving_default_is_weekday:0\n",
      "  inputs['origin'] tensor_info:\n",
      "      dtype: DT_STRING\n",
      "      shape: (-1)\n",
      "      name: serving_default_origin:0\n",
      "  inputs['taxi_out'] tensor_info:\n",
      "      dtype: DT_FLOAT\n",
      "      shape: (-1)\n",
      "      name: serving_default_taxi_out:0\n",
      "The given SavedModel SignatureDef contains the following output(s):\n",
      "  outputs['pred'] tensor_info:\n",
      "      dtype: DT_FLOAT\n",
      "      shape: (-1, 1)\n",
      "      name: StatefulPartitionedCall:0\n",
      "Method name is: tensorflow/serving/predict\n"
     ]
    }
   ],
   "source": [
    "%%bash\n",
    "model_dir=$(gsutil ls ${OUTDIR}/export | tail -1)\n",
    "echo $model_dir\n",
    "saved_model_cli show --tag_set serve --signature_def serving_default --dir $model_dir"
   ]
  },
  {
   "cell_type": "code",
   "execution_count": 29,
   "id": "3cda182d-4772-466c-8a14-ef62a835b656",
   "metadata": {
    "tags": []
   },
   "outputs": [
    {
     "name": "stdout",
     "output_type": "stream",
     "text": [
      "{'inputs': {'dep_delay': {'inputTensorName': 'dep_delay'}, 'taxi_out': {'inputTensorName': 'taxi_out'}, 'distance': {'inputTensorName': 'distance'}, 'dep_hour': {'inputTensorName': 'dep_hour'}, 'is_weekday': {'inputTensorName': 'is_weekday'}, 'dep_airport_lat': {'inputTensorName': 'dep_airport_lat'}, 'dep_airport_lon': {'inputTensorName': 'dep_airport_lon'}, 'arr_airport_lat': {'inputTensorName': 'arr_airport_lat'}, 'arr_airport_lon': {'inputTensorName': 'arr_airport_lon'}, 'carrier': {'inputTensorName': 'carrier'}, 'origin': {'inputTensorName': 'origin'}, 'dest': {'inputTensorName': 'dest'}}, 'outputs': {'pred': {'outputTensorName': 'pred'}}}\n"
     ]
    }
   ],
   "source": [
    "# !cat explanation-metadata.json Create a JSON file explanation-metadata.json that contains the metadata describing the Model's input and output for explanation.\n",
    "# Here, you use sampled-shapley method used for explanation:\n",
    "cols = ('dep_delay,taxi_out,distance,dep_hour,is_weekday,' +\n",
    "        'dep_airport_lat,dep_airport_lon,' +\n",
    "        'arr_airport_lat,arr_airport_lon,' +\n",
    "        'carrier,origin,dest')\n",
    "inputs = {x: {\"inputTensorName\": \"{}\".format(x)}\n",
    "        for x in cols.split(',')}\n",
    "expl = {\n",
    "    \"inputs\": inputs,\n",
    "    \"outputs\": {\n",
    "    \"pred\": {\n",
    "      \"outputTensorName\": \"pred\"\n",
    "    }\n",
    "  }\n",
    "}\n",
    "print(expl)\n",
    "with open('explanation-metadata.json', 'w') as ofp:\n",
    "    json.dump(expl, ofp, indent=2)"
   ]
  },
  {
   "cell_type": "code",
   "execution_count": 30,
   "id": "7e1c59a5-57c8-4974-8fc1-3ab767736140",
   "metadata": {
    "tags": []
   },
   "outputs": [
    {
     "name": "stdout",
     "output_type": "stream",
     "text": [
      "{\n",
      "  \"inputs\": {\n",
      "    \"dep_delay\": {\n",
      "      \"inputTensorName\": \"dep_delay\"\n",
      "    },\n",
      "    \"taxi_out\": {\n",
      "      \"inputTensorName\": \"taxi_out\"\n",
      "    },\n",
      "    \"distance\": {\n",
      "      \"inputTensorName\": \"distance\"\n",
      "    },\n",
      "    \"dep_hour\": {\n",
      "      \"inputTensorName\": \"dep_hour\"\n",
      "    },\n",
      "    \"is_weekday\": {\n",
      "      \"inputTensorName\": \"is_weekday\"\n",
      "    },\n",
      "    \"dep_airport_lat\": {\n",
      "      \"inputTensorName\": \"dep_airport_lat\"\n",
      "    },\n",
      "    \"dep_airport_lon\": {\n",
      "      \"inputTensorName\": \"dep_airport_lon\"\n",
      "    },\n",
      "    \"arr_airport_lat\": {\n",
      "      \"inputTensorName\": \"arr_airport_lat\"\n",
      "    },\n",
      "    \"arr_airport_lon\": {\n",
      "      \"inputTensorName\": \"arr_airport_lon\"\n",
      "    },\n",
      "    \"carrier\": {\n",
      "      \"inputTensorName\": \"carrier\"\n",
      "    },\n",
      "    \"origin\": {\n",
      "      \"inputTensorName\": \"origin\"\n",
      "    },\n",
      "    \"dest\": {\n",
      "      \"inputTensorName\": \"dest\"\n",
      "    }\n",
      "  },\n",
      "  \"outputs\": {\n",
      "    \"pred\": {\n",
      "      \"outputTensorName\": \"pred\"\n",
      "    }\n",
      "  }\n",
      "}"
     ]
    }
   ],
   "source": [
    "!cat explanation-metadata.json"
   ]
  },
  {
   "cell_type": "markdown",
   "id": "d700a29a-9114-4fd2-b7a0-765109805c8b",
   "metadata": {},
   "source": [
    "Create the model endpoint flights_xai, upload the model, and deploy it at the model endpoint using the following code:"
   ]
  },
  {
   "cell_type": "code",
   "execution_count": 31,
   "id": "8d4e9eb2-7995-4964-8f4a-e3c84fdd4262",
   "metadata": {
    "tags": []
   },
   "outputs": [
    {
     "name": "stdout",
     "output_type": "stream",
     "text": [
      "gs://qwiklabs-gcp-00-296140180bbf-dsongcp/ch9/trained_model/export/flights_20240407-152517/\n"
     ]
    },
    {
     "name": "stderr",
     "output_type": "stream",
     "text": [
      "Using endpoint [https://us-west1-aiplatform.googleapis.com/]\n"
     ]
    },
    {
     "name": "stdout",
     "output_type": "stream",
     "text": [
      "Creating Endpoint for flights_xai-20240407-155034\n"
     ]
    },
    {
     "name": "stderr",
     "output_type": "stream",
     "text": [
      "Using endpoint [https://us-west1-aiplatform.googleapis.com/]\n",
      "Waiting for operation [2945524580602609664]...\n",
      "......................done.\n",
      "Created Vertex AI endpoint: projects/836326919103/locations/us-west1/endpoints/178178058304356352.\n",
      "Using endpoint [https://us-west1-aiplatform.googleapis.com/]\n"
     ]
    },
    {
     "name": "stdout",
     "output_type": "stream",
     "text": [
      "ENDPOINT_ID=178178058304356352\n"
     ]
    },
    {
     "name": "stderr",
     "output_type": "stream",
     "text": [
      "Using endpoint [https://us-west1-aiplatform.googleapis.com/]\n",
      "Using endpoint [https://us-west1-aiplatform.googleapis.com/]\n",
      "Waiting for operation [6800605861631754240]...\n",
      "...........................................................................................................................................................................................................................................................................................................................................................................................................................................................................................................................................................................................................................................................................................................................................................................................................................................................................................................................................................................................................................................................................................................................................................................................................................................................................................................................................................................................................................................................................................................................................................................................................................................................................................................................................................................................................................................................................................................................................................................................................................................................................................................done.\n",
      "Using endpoint [https://us-west1-aiplatform.googleapis.com/]\n"
     ]
    },
    {
     "name": "stdout",
     "output_type": "stream",
     "text": [
      "MODEL_ID=596260757696413696\n"
     ]
    },
    {
     "name": "stderr",
     "output_type": "stream",
     "text": [
      "Using endpoint [https://us-west1-aiplatform.googleapis.com/]\n",
      "Waiting for operation [8003066962139676672]...\n",
      "........................................................................................................................................................................................................................................................................................................................................................................................................................................................................................................................................................................................................................................................................................................................................................................................................................................................................................................................................................................................................................................................................................................................................................................................................................................................................................................................................................................................................................................................................................................................................................................................................................................................................................................................................................................................................................................................................................................................................................................................................................................................................................................................................................................................................................................................................................................................................................................................................................................................................................................................................................................................................................................................................................................................................................................................................................................................................................................................................................................................................................................................................................................................................................................................................................................................................................................................................................................................................................................................................................................................................................................................................................................................................................................................................................................................................................................................................................................................................................................................................................................................................................................................................................................................................................................................................................................................................................................................................................................................................................................................................................................................................................................................................................................................................................................................................................done.\n",
      "Deployed a model to the endpoint 178178058304356352. Id of the deployed model: 7422886561999486976.\n"
     ]
    }
   ],
   "source": [
    "%%bash\n",
    "# note ENDPOINT_NAME is being changed\n",
    "\n",
    "ENDPOINT_NAME=flights_xai\n",
    "\n",
    "TIMESTAMP=$(date +%Y%m%d-%H%M%S)\n",
    "MODEL_NAME=${ENDPOINT_NAME}-${TIMESTAMP}\n",
    "EXPORT_PATH=$(gsutil ls ${OUTDIR}/export | tail -1)\n",
    "echo $EXPORT_PATH\n",
    "\n",
    "# create the model endpoint for deploying the model\n",
    "if [[ $(gcloud ai endpoints list --region=$REGION \\\n",
    "        --format='value(DISPLAY_NAME)' --filter=display_name=${ENDPOINT_NAME}) ]]; then\n",
    "    echo \"Endpoint for $MODEL_NAME already exists\"\n",
    "else\n",
    "    # create model endpoint\n",
    "    echo \"Creating Endpoint for $MODEL_NAME\"\n",
    "    gcloud ai endpoints create --region=${REGION} --display-name=${ENDPOINT_NAME}\n",
    "fi\n",
    "\n",
    "ENDPOINT_ID=$(gcloud ai endpoints list --region=$REGION \\\n",
    "              --format='value(ENDPOINT_ID)' --filter=display_name=${ENDPOINT_NAME})\n",
    "echo \"ENDPOINT_ID=$ENDPOINT_ID\"\n",
    "\n",
    "\n",
    "# delete any existing models with this name\n",
    "for MODEL_ID in $(gcloud ai models list --region=$REGION --format='value(MODEL_ID)' --filter=display_name=${MODEL_NAME}); do\n",
    "    echo \"Deleting existing $MODEL_NAME ... $MODEL_ID \"\n",
    "    gcloud ai models delete --region=$REGION $MODEL_ID\n",
    "done\n",
    "\n",
    "\n",
    "# upload the model using the parameters docker conatiner image, artifact URI, explanation method,\n",
    "# explanation path count and explanation metadata JSON file `explanation-metadata.json`.\n",
    "# Here, you keep number of feature permutations to `10` when approximating the Shapley values for explanation.\n",
    "gcloud ai models upload --region=$REGION --display-name=$MODEL_NAME \\\n",
    "     --container-image-uri=us-docker.pkg.dev/vertex-ai/prediction/tf2-cpu.${TF_VERSION}:latest \\\n",
    "     --artifact-uri=$EXPORT_PATH \\\n",
    "     --explanation-method=sampled-shapley --explanation-path-count=10 --explanation-metadata-file=explanation-metadata.json\n",
    "MODEL_ID=$(gcloud ai models list --region=$REGION --format='value(MODEL_ID)' --filter=display_name=${MODEL_NAME})\n",
    "echo \"MODEL_ID=$MODEL_ID\"\n",
    "\n",
    "\n",
    "# deploy the model to the endpoint\n",
    "gcloud ai endpoints deploy-model $ENDPOINT_ID \\\n",
    "  --region=$REGION \\\n",
    "  --model=$MODEL_ID \\\n",
    "  --display-name=$MODEL_NAME \\\n",
    "  --machine-type=e2-standard-2 \\\n",
    "  --min-replica-count=1 \\\n",
    "  --max-replica-count=1 \\\n",
    "  --traffic-split=0=100"
   ]
  },
  {
   "cell_type": "markdown",
   "id": "56486d89-7574-4942-8728-a037624b8166",
   "metadata": {},
   "source": [
    "Here’s how client programs can invoke the model you deployed. Assume that they have the input data in a JSON file called example_input.json. Now, send an HTTP POST request and you will get the result back as JSON."
   ]
  },
  {
   "cell_type": "code",
   "execution_count": 32,
   "id": "98578c26-00dc-4da9-9234-9132d51390df",
   "metadata": {
    "tags": []
   },
   "outputs": [
    {
     "name": "stderr",
     "output_type": "stream",
     "text": [
      "Using endpoint [https://us-west1-aiplatform.googleapis.com/]\n",
      "curl: /opt/conda/lib/libcurl.so.4: no version information available (required by curl)\n",
      "  % Total    % Received % Xferd  Average Speed   Time    Time     Time  Current\n",
      "                                 Dload  Upload   Total   Spent    Left  Speed\n",
      "100  2557    0  2014  100   543    942    254  0:00:02  0:00:02 --:--:--  1197\n"
     ]
    },
    {
     "name": "stdout",
     "output_type": "stream",
     "text": [
      "{\n",
      "  \"explanations\": [\n",
      "    {\n",
      "      \"attributions\": [\n",
      "        {\n",
      "          \"baselineOutputValue\": 0.52251625061035156,\n",
      "          \"instanceOutputValue\": 0.94080603122711182,\n",
      "          \"featureAttributions\": {\n",
      "            \"distance\": 0.042721176147460939,\n",
      "            \"dest\": -0.0051912605762481686,\n",
      "            \"dep_delay\": -0.018220239877700811,\n",
      "            \"taxi_out\": -0.01223649382591247,\n",
      "            \"carrier\": -0.0029786586761474609,\n",
      "            \"dep_hour\": 0.0021832585334777832,\n",
      "            \"arr_airport_lon\": 0.13701033890247341,\n",
      "            \"origin\": -0.0064539998769760128,\n",
      "            \"dep_airport_lat\": 0.075917685031890864,\n",
      "            \"arr_airport_lat\": -0.057737642526626588,\n",
      "            \"is_weekday\": 0.00025331974029541021,\n",
      "            \"dep_airport_lon\": 0.26302229762077328\n",
      "          },\n",
      "          \"outputIndex\": [\n",
      "            0\n",
      "          ],\n",
      "          \"approximationError\": 0.00771710463587483,\n",
      "          \"outputName\": \"pred\"\n",
      "        }\n",
      "      ]\n",
      "    },\n",
      "    {\n",
      "      \"attributions\": [\n",
      "        {\n",
      "          \"baselineOutputValue\": 0.52251625061035156,\n",
      "          \"instanceOutputValue\": 0.98108279705047607,\n",
      "          \"featureAttributions\": {\n",
      "            \"origin\": -0.001213479042053223,\n",
      "            \"carrier\": 0.00082405805587768553,\n",
      "            \"dep_delay\": 0.0041312873363494873,\n",
      "            \"dep_airport_lat\": 0.020113360881805421,\n",
      "            \"distance\": 0.1222541391849518,\n",
      "            \"dest\": 0.0037549614906311041,\n",
      "            \"taxi_out\": -0.00467182993888855,\n",
      "            \"arr_airport_lon\": 0.082838338613510129,\n",
      "            \"arr_airport_lat\": -0.0133279025554657,\n",
      "            \"dep_airport_lon\": 0.22878566384315491,\n",
      "            \"is_weekday\": 0,\n",
      "            \"dep_hour\": 0.01507794857025146\n",
      "          },\n",
      "          \"outputIndex\": [\n",
      "            0\n",
      "          ],\n",
      "          \"approximationError\": 0.01052512574013892,\n",
      "          \"outputName\": \"pred\"\n",
      "        }\n",
      "      ]\n",
      "    }\n",
      "  ],\n",
      "  \"deployedModelId\": \"7422886561999486976\",\n",
      "  \"predictions\": [\n",
      "    [\n",
      "      0.940806031\n",
      "    ],\n",
      "    [\n",
      "      0.981082857\n",
      "    ]\n",
      "  ]\n",
      "}\n"
     ]
    }
   ],
   "source": [
    "%%bash\n",
    "PROJECT=$(gcloud config get-value project)\n",
    "ENDPOINT_NAME=flights_xai\n",
    "ENDPOINT_ID=$(gcloud ai endpoints list --region=$REGION \\\n",
    "              --format='value(ENDPOINT_ID)' --filter=display_name=${ENDPOINT_NAME})\n",
    "\n",
    "curl -X POST \\\n",
    "  -H \"Authorization: Bearer \"$(gcloud auth application-default print-access-token) \\\n",
    "  -H \"Content-Type: application/json; charset=utf-8\" \\\n",
    "  -d @example_input.json \\\n",
    "  \"https://${REGION}-aiplatform.googleapis.com/v1/projects/${PROJECT}/locations/${REGION}/endpoints/${ENDPOINT_ID}:explain\""
   ]
  },
  {
   "cell_type": "code",
   "execution_count": null,
   "id": "2fe74a1b-99c9-4144-ad1f-31ed0576390c",
   "metadata": {},
   "outputs": [],
   "source": []
  }
 ],
 "metadata": {
  "environment": {
   "kernel": "conda-env-tensorflow-tensorflow",
   "name": "workbench-notebooks.m119",
   "type": "gcloud",
   "uri": "us-docker.pkg.dev/deeplearning-platform-release/gcr.io/workbench-notebooks:m119"
  },
  "kernelspec": {
   "display_name": "TensorFlow 2-11 (Local)",
   "language": "python",
   "name": "conda-env-tensorflow-tensorflow"
  },
  "language_info": {
   "codemirror_mode": {
    "name": "ipython",
    "version": 3
   },
   "file_extension": ".py",
   "mimetype": "text/x-python",
   "name": "python",
   "nbconvert_exporter": "python",
   "pygments_lexer": "ipython3",
   "version": "3.10.14"
  }
 },
 "nbformat": 4,
 "nbformat_minor": 5
}
